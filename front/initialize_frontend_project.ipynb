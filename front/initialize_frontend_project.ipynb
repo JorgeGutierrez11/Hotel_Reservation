{
 "cells": [
  {
   "metadata": {},
   "cell_type": "markdown",
   "source": [
    "# Step 1: Install Node.js\n",
    "\n",
    "Follow these steps to install Node.js:\n",
    "\n",
    "1. Visit the official Node.js website [https://nodejs.org/](https://nodejs.org/).\n",
    "2. Download and install the LTS (Long-Term Support) version.\n",
    "3. Verify the installation by running the following commands:"
   ],
   "id": "65232debc2838987"
  },
  {
   "metadata": {
    "ExecuteTime": {
     "end_time": "2025-04-06T13:42:10.649204Z",
     "start_time": "2025-04-06T13:42:09.897242Z"
    }
   },
   "cell_type": "code",
   "source": [
    "node -v\n",
    "npm -v"
   ],
   "id": "e00c9c1aedaa1481",
   "outputs": [
    {
     "ename": "NameError",
     "evalue": "name 'node' is not defined",
     "output_type": "error",
     "traceback": [
      "\u001B[1;31m---------------------------------------------------------------------------\u001B[0m",
      "\u001B[1;31mNameError\u001B[0m                                 Traceback (most recent call last)",
      "Cell \u001B[1;32mIn[1], line 1\u001B[0m\n\u001B[1;32m----> 1\u001B[0m \u001B[43mnode\u001B[49m \u001B[38;5;241m-\u001B[39mv\n\u001B[0;32m      2\u001B[0m npm \u001B[38;5;241m-\u001B[39mv\n",
      "\u001B[1;31mNameError\u001B[0m: name 'node' is not defined"
     ]
    }
   ],
   "execution_count": 1
  },
  {
   "metadata": {},
   "cell_type": "markdown",
   "source": [
    "# Step 2: Create a New Folder for the Frontend Project\n",
    "\n",
    "1. Open your terminal or command prompt.\n",
    "2. Navigate to the directory where you want to create your project.\n",
    "3. Run the following commands:"
   ],
   "id": "8fd809ea65793354"
  },
  {
   "metadata": {},
   "cell_type": "code",
   "outputs": [],
   "execution_count": null,
   "source": [
    "mkdir my-frontend-project\n",
    "cd my-frontend-project"
   ],
   "id": "b186e85e6c92042c"
  },
  {
   "metadata": {},
   "cell_type": "markdown",
   "source": [
    "# Step 3: Initialize a New Node.js Project\n",
    "\n",
    "Run the following command in your project folder:"
   ],
   "id": "c09b78e4c8b76769"
  },
  {
   "metadata": {},
   "cell_type": "code",
   "outputs": [],
   "execution_count": null,
   "source": "npm init -y",
   "id": "ae3cf80ba8350505"
  },
  {
   "metadata": {},
   "cell_type": "markdown",
   "source": "This creates a `package.json` file in your project directory where project metadata and dependencies are managed.",
   "id": "11ce7163c7289ca3"
  },
  {
   "metadata": {},
   "cell_type": "markdown",
   "source": [
    "# Step 4: Install Key Dependencies\n",
    "\n",
    "Example for a React-based project:\n",
    "\n",
    "1. Run the following commands to install React and supporting tools:"
   ],
   "id": "c675f8a1008d9575"
  },
  {
   "metadata": {},
   "cell_type": "code",
   "outputs": [],
   "execution_count": null,
   "source": [
    "npm install react react-dom\n",
    "npm install --save-dev webpack webpack-cli babel-loader @babel/core @babel/preset-env @babel/preset-react"
   ],
   "id": "513c521f8590ea3a"
  },
  {
   "metadata": {},
   "cell_type": "markdown",
   "source": [
    "2. Alternatively, for other frameworks like Angular or Vue.js, install their respective libraries.\n",
    "3. Optionally, install tools like Vite for bundling:"
   ],
   "id": "36a57f9b694cf72e"
  },
  {
   "metadata": {},
   "cell_type": "code",
   "outputs": [],
   "execution_count": null,
   "source": "npm install vite",
   "id": "761e93b6a342b2c5"
  },
  {
   "metadata": {},
   "cell_type": "markdown",
   "source": [
    "# Step 5: Create Basic Folder Structure\n",
    "\n",
    "Run these commands to set up folders:"
   ],
   "id": "6e0bd8ae2a46e20e"
  },
  {
   "metadata": {
    "jupyter": {
     "is_executing": true
    }
   },
   "cell_type": "code",
   "source": "mkdir src components pages public",
   "id": "d198d0157b9de34",
   "outputs": [],
   "execution_count": null
  },
  {
   "metadata": {},
   "cell_type": "markdown",
   "source": "Your project folder structure should look like this:\n",
   "id": "d5832e15368cacd7"
  },
  {
   "metadata": {},
   "cell_type": "code",
   "outputs": [],
   "execution_count": null,
   "source": "",
   "id": "4944784d39e51b04"
  },
  {
   "metadata": {},
   "cell_type": "markdown",
   "source": [
    "# Step 6: Create a Simple React Component\n",
    "\n",
    "1. Inside the `src` folder, create a new file `App.js` with the following code:"
   ],
   "id": "1ef0009216563cda"
  },
  {
   "metadata": {},
   "cell_type": "code",
   "outputs": [],
   "execution_count": null,
   "source": [
    "import React from 'react';\n",
    "\n",
    "const App = () => {\n",
    "  return (\n",
    "    <div>\n",
    "      <h1>Welcome to My Frontend Project!</h1>\n",
    "      <p>This is a simple React component.</p>\n",
    "    </div>\n",
    "  );\n",
    "};\n",
    "\n",
    "export default App;"
   ],
   "id": "6504aaead58e2d53"
  },
  {
   "metadata": {},
   "cell_type": "markdown",
   "source": [
    "# Step 7: Run the Frontend Project\n",
    "\n",
    "1. Add a development script in your `package.json`:"
   ],
   "id": "8badf1eeda969247"
  },
  {
   "metadata": {},
   "cell_type": "code",
   "outputs": [],
   "execution_count": null,
   "source": [
    "\"scripts\": {\n",
    "  \"start\": \"vite\"\n",
    "}"
   ],
   "id": "4bd081dfd4e0d66"
  },
  {
   "metadata": {},
   "cell_type": "markdown",
   "source": "2. Start the development server:",
   "id": "3f46c991a0db689f"
  },
  {
   "metadata": {},
   "cell_type": "code",
   "outputs": [],
   "execution_count": null,
   "source": "npm start",
   "id": "f115767984e8645e"
  },
  {
   "metadata": {},
   "cell_type": "markdown",
   "source": [
    "# Step 8: Connect Frontend to Backend\n",
    "\n",
    "To connect with a backend, install Axios:"
   ],
   "id": "c05b610a23413faa"
  },
  {
   "metadata": {},
   "cell_type": "code",
   "outputs": [],
   "execution_count": null,
   "source": "npm install axios",
   "id": "3a19144e04c546b"
  },
  {
   "metadata": {},
   "cell_type": "markdown",
   "source": [
    "Create a new file `api.js` in the `src` folder and add the following:\n",
    "\n",
    "```javascript\n",
    "import axios from 'axios';\n",
    "\n",
    "const apiClient = axios.create({\n",
    "  baseURL: 'http://localhost:5000', // Replace with your backend URL\n",
    "  timeout: 1000,\n",
    "});\n",
    "\n",
    "export default apiClient;\n",
    "```\n",
    "\n",
    "Use this client to make requests to your backend throughout your React app.\n",
    "\n",
    "```md\n",
    "# Project Setup Complete!\n",
    "```"
   ],
   "id": "b11feb5eba906ba"
  }
 ],
 "metadata": {
  "kernelspec": {
   "display_name": "Python 3",
   "language": "python",
   "name": "python3"
  },
  "language_info": {
   "codemirror_mode": {
    "name": "ipython",
    "version": 2
   },
   "file_extension": ".py",
   "mimetype": "text/x-python",
   "name": "python",
   "nbconvert_exporter": "python",
   "pygments_lexer": "ipython2",
   "version": "2.7.6"
  }
 },
 "nbformat": 4,
 "nbformat_minor": 5
}
